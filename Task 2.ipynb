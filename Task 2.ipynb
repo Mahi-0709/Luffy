{
 "cells": [
  {
   "cell_type": "markdown",
   "id": "156e7e3f",
   "metadata": {
    "id": "156e7e3f"
   },
   "source": [
    "## TASK 1\n",
    "\n",
    "### Disclaimer:Dont use ChatGPT\n",
    "### *1-extracts names,scores_values using indexing\n",
    "### *2-direct extraction\n",
    "### follow *1 and *2 and do required task-Total 5 questions"
   ]
  },
  {
   "cell_type": "code",
   "execution_count": 201,
   "id": "209cf0ab",
   "metadata": {
    "id": "209cf0ab"
   },
   "outputs": [],
   "source": [
    "# Tuple containing tuples of student names and their favorite subjects\n",
    "students = (('Alice', 'Math'), ('Bob', 'Science'), ('Charlie', 'History'))\n",
    "\n",
    "# Dictionary with student names and their scores in different subjects\n",
    "scores = {'Alice': {'Math': 90, 'Science': 85, 'History': 78},\n",
    "          'Bob': {'Math': 82, 'Science': 88, 'History': 91},\n",
    "         'Charlie': {'Math': 79, 'Science': 85, 'History': 92}}\n",
    "#o/p:{'Alice':90,'Bob':88}"
   ]
  },
  {
   "cell_type": "code",
   "execution_count": 240,
   "id": "d1dec88b-0186-4a94-85af-c59ab2ecca31",
   "metadata": {},
   "outputs": [
    {
     "data": {
      "text/plain": [
       "{'Alice': 90, 'Bob': 88}"
      ]
     },
     "execution_count": 240,
     "metadata": {},
     "output_type": "execute_result"
    }
   ],
   "source": [
    "scores['Alice']['Math']\n",
    "out={}\n",
    "out[students[0][0]]=scores[students[0][0]][students[0][1]]\n",
    "out[students[1][0]]=scores[students[1][0]][students[1][1]]\n",
    "out"
   ]
  },
  {
   "cell_type": "code",
   "execution_count": 441,
   "id": "ee538cfa-6513-42a5-be1b-2dbd666655c1",
   "metadata": {},
   "outputs": [],
   "source": [
    "# Main Task:\n",
    "\n",
    "# For each student in the students tuple, extract marks of their favorite subject from the scores dictionary and\n",
    "# add it to a new dictionary with the student’s name as the key and the score as the value.\n",
    "\n",
    "# Additional Questions:\n",
    "\n",
    "# 1.From nested tuple students create a new tuple where each element is a string combining the first letter of the student’s name\n",
    "# with the first letter of their favorite subject (in lowercase), separated by a hyphen (-).ie)('A-m','B-s','C-h') (*1)\n",
    "# #dont try split and join;I think you all had good amt of pratice in it; this time for easier approach: **try formatting** search formatting in strings notebook,understand and apply\n",
    "\n",
    "# 2.create new dictionay with key as Reverse of names in the students tuple and convert them to title case.\n",
    "# extract all 3 subject marks as lists for individual student and add them as corresponding values .(*1) ie){'Ecila': [90, 85, 78],..for bob and charlie}\n",
    "# **hint:try to use dictionary method for values**\n",
    "\n",
    "# 3.Create a new dictionary where each key is the student’s name and the value is highest score among 3 subject for corresponding student.\n",
    "# (*2)"
   ]
  },
  {
   "cell_type": "markdown",
   "id": "3e5b6b76-3baa-4081-96d3-484f0ac47c4f",
   "metadata": {},
   "source": [
    "# Main task"
   ]
  },
  {
   "cell_type": "code",
   "execution_count": 444,
   "id": "7e8c4f61-3c6b-4174-afe3-87c311fed031",
   "metadata": {},
   "outputs": [
    {
     "data": {
      "text/plain": [
       "{'Alice': 90, 'Bob': 88, 'Charlie': 92}"
      ]
     },
     "execution_count": 444,
     "metadata": {},
     "output_type": "execute_result"
    }
   ],
   "source": [
    "a,b,c=students[0][0],students[1][0],students[2][0]\n",
    "d,e,f=students[0][1],students[1][1],students[2][1]\n",
    "v={}\n",
    "x,y,z=scores[a][d],scores[b][e],scores[c][f]\n",
    "v.update({a:x,b:y,c:z})\n",
    "v"
   ]
  },
  {
   "cell_type": "markdown",
   "id": "c54c61bf-002c-4e74-96fb-5a866b547612",
   "metadata": {},
   "source": [
    "# Add question 1"
   ]
  },
  {
   "cell_type": "code",
   "execution_count": 447,
   "id": "72646e4d-a8c9-4012-be4a-33b50bbc7d91",
   "metadata": {},
   "outputs": [
    {
     "data": {
      "text/plain": [
       "('A', 'B', 'C', 'm', 's', 'h')"
      ]
     },
     "execution_count": 447,
     "metadata": {},
     "output_type": "execute_result"
    }
   ],
   "source": [
    "ntp=()\n",
    "c1,c2,c3=students[0][0][0],students[1][0][0],students[2][0][0]\n",
    "d1,d2,d3=students[0][1][0].lower(),students[1][1][0].lower(),students[2][1][0].lower()\n",
    "c1,c2,c3,d1,d2,d3"
   ]
  },
  {
   "cell_type": "code",
   "execution_count": 449,
   "id": "07a961e8-8f32-49e2-9155-7e6258bab1a0",
   "metadata": {},
   "outputs": [
    {
     "data": {
      "text/plain": [
       "('A-m', 'B-s', 'C-h')"
      ]
     },
     "execution_count": 449,
     "metadata": {},
     "output_type": "execute_result"
    }
   ],
   "source": [
    "e1,e2,e3='{}-{}'.format(c1,d1),'{}-{}'.format(c2,d2),'{}-{}'.format(c3,d3)\n",
    "v=(e1,e2,e3)\n",
    "ntp+=v\n",
    "ntp"
   ]
  },
  {
   "cell_type": "markdown",
   "id": "479da05a-50cc-4e68-afbf-a0f9d13379a3",
   "metadata": {},
   "source": [
    "# Add question 2"
   ]
  },
  {
   "cell_type": "code",
   "execution_count": 452,
   "id": "87a1e077-6569-41d8-b556-da132c284431",
   "metadata": {},
   "outputs": [
    {
     "data": {
      "text/plain": [
       "('Alice', 'Bob', 'Charlie')"
      ]
     },
     "execution_count": 452,
     "metadata": {},
     "output_type": "execute_result"
    }
   ],
   "source": [
    "a1,a2,a3=students[0][0],students[1][0],students[2][0]\n",
    "a1,a2,a3"
   ]
  },
  {
   "cell_type": "code",
   "execution_count": 454,
   "id": "fb388fb0-0c6d-44b8-892a-2fd590aa5d53",
   "metadata": {},
   "outputs": [
    {
     "data": {
      "text/plain": [
       "('Ecila', 'Bob', 'Eilrahc')"
      ]
     },
     "execution_count": 454,
     "metadata": {},
     "output_type": "execute_result"
    }
   ],
   "source": [
    "r={}\n",
    "m1,m2,m3=students[0][0][-1::-1].title(),students[1][0][-1::-1].title(),students[2][0][-1::-1].title()\n",
    "m1,m2,m3"
   ]
  },
  {
   "cell_type": "code",
   "execution_count": 456,
   "id": "d18092ec-f69c-44f8-bea0-dc2da12cc46e",
   "metadata": {},
   "outputs": [
    {
     "data": {
      "text/plain": [
       "([90, 85, 78], [82, 88, 91], [79, 85, 92])"
      ]
     },
     "execution_count": 456,
     "metadata": {},
     "output_type": "execute_result"
    }
   ],
   "source": [
    "g1,g2,g3=list(scores[a1].values()),list(scores[a2].values()),list(scores[a3].values())\n",
    "g1,g2,g3"
   ]
  },
  {
   "cell_type": "code",
   "execution_count": 458,
   "id": "72244661-51e2-4af0-87e4-e0362d22f28d",
   "metadata": {},
   "outputs": [
    {
     "data": {
      "text/plain": [
       "{'Ecila': [90, 85, 78], 'Bob': [82, 88, 91], 'Eilrahc': [79, 85, 92]}"
      ]
     },
     "execution_count": 458,
     "metadata": {},
     "output_type": "execute_result"
    }
   ],
   "source": [
    "r.update({m1:g1,m2:g2,m3:g3})\n",
    "r"
   ]
  },
  {
   "cell_type": "markdown",
   "id": "e4d54fad-8913-4ef9-b6b9-b964b130291d",
   "metadata": {},
   "source": [
    "# Add question 3"
   ]
  },
  {
   "cell_type": "code",
   "execution_count": 469,
   "id": "f714b720-6233-4e42-a743-e8e4c3a83b1b",
   "metadata": {},
   "outputs": [
    {
     "data": {
      "text/plain": [
       "('Alice', 'Bob', 'Charlie')"
      ]
     },
     "execution_count": 469,
     "metadata": {},
     "output_type": "execute_result"
    }
   ],
   "source": [
    "h={}\n",
    "a1,a2,a3=students[0][0],students[1][0],students[2][0]\n",
    "a1,a2,a3"
   ]
  },
  {
   "cell_type": "code",
   "execution_count": 471,
   "id": "3d6038ed-7917-4f7b-a0f4-6f6fbc555d99",
   "metadata": {},
   "outputs": [
    {
     "data": {
      "text/plain": [
       "(90, 91, 92)"
      ]
     },
     "execution_count": 471,
     "metadata": {},
     "output_type": "execute_result"
    }
   ],
   "source": [
    "b1,b2,b3=max(scores[a1].values()),max(scores[a2].values()),max(scores[a3].values())\n",
    "b1,b2,b3"
   ]
  },
  {
   "cell_type": "code",
   "execution_count": 467,
   "id": "57a26603-e607-4b62-9bce-93a2a967340d",
   "metadata": {},
   "outputs": [
    {
     "data": {
      "text/plain": [
       "{'Alice': 90, 'Bob': 91, 'Charlie': 92}"
      ]
     },
     "execution_count": 467,
     "metadata": {},
     "output_type": "execute_result"
    }
   ],
   "source": [
    "h.update({a1:b1,a2:b2,a3:b3})\n",
    "h"
   ]
  },
  {
   "cell_type": "markdown",
   "id": "5b1bdbdc",
   "metadata": {
    "id": "5b1bdbdc"
   },
   "source": [
    "## Task-2"
   ]
  },
  {
   "cell_type": "code",
   "execution_count": 512,
   "id": "c0b3163d",
   "metadata": {
    "id": "c0b3163d"
   },
   "outputs": [],
   "source": [
    "# Tuple containing employee names and their department\n",
    "employees = (('John', 'HR'), ('Emily', 'Finance'), ('Michael', 'IT'), ('Sophia', 'Marketing'))\n",
    "\n",
    "# Dictionary with employee names and their monthly salaries\n",
    "salaries = {\n",
    "    'John': [3000, 3200, 3100],\n",
    "    'Emily': [3500, 3600, 3700],\n",
    "    'Michael': [4000, 4200, 4100],\n",
    "    'Sophia': [2800, 2900, 3000]}\n",
    "# Task:(*2) for 2 tasks\n",
    "\n",
    "# 4.Create a new dictionary where each key is the employee’s name and value is tuple containing employees department and  average of their monthly salaries.\n",
    "# ie)in this format {'John': ('HR', 3100.0),...}\n",
    "\n",
    "# 5.Calculate the total salary for each employee over the given 3 months and update the salaries dictionary with this sum as value\n",
    "# changes should be in original dictionary salaries"
   ]
  },
  {
   "cell_type": "markdown",
   "id": "bf5de369-b9be-4d93-b713-efa8f0193663",
   "metadata": {
    "id": "SBG2fT_UEReT"
   },
   "source": [
    "# Add question 4"
   ]
  },
  {
   "cell_type": "code",
   "execution_count": 515,
   "id": "e1acb8b8-af9b-49d6-927a-4dcd2bca5d85",
   "metadata": {},
   "outputs": [
    {
     "data": {
      "text/plain": [
       "('John', 'Emily', 'Michael', 'Sophia')"
      ]
     },
     "execution_count": 515,
     "metadata": {},
     "output_type": "execute_result"
    }
   ],
   "source": [
    "t={}\n",
    "q1,q2,q3,q4=employees[0][0],employees[1][0],employees[2][0],employees[3][0]\n",
    "q1,q2,q3,q4"
   ]
  },
  {
   "cell_type": "code",
   "execution_count": 517,
   "id": "a94d031f-489c-4dd6-8568-6ba3edadbd22",
   "metadata": {},
   "outputs": [
    {
     "data": {
      "text/plain": [
       "('HR', 'Finance', 'IT', 'Marketing')"
      ]
     },
     "execution_count": 517,
     "metadata": {},
     "output_type": "execute_result"
    }
   ],
   "source": [
    "w1,w2,w3,w4=employees[0][1],employees[1][1],employees[2][1],employees[3][1]\n",
    "w1,w2,w3,w4"
   ]
  },
  {
   "cell_type": "code",
   "execution_count": 519,
   "id": "59d399d3-feac-454e-8db7-590345a2a287",
   "metadata": {},
   "outputs": [
    {
     "data": {
      "text/plain": [
       "(3100.0, 3600.0, 4100.0, 2900.0)"
      ]
     },
     "execution_count": 519,
     "metadata": {},
     "output_type": "execute_result"
    }
   ],
   "source": [
    "e1,e2,e3,e4=sum(salaries[q1])/3,sum(salaries[q2])/3,sum(salaries[q3])/3,sum(salaries[q4])/3\n",
    "e1,e2,e3,e4"
   ]
  },
  {
   "cell_type": "code",
   "execution_count": 521,
   "id": "fed6c5d1-5431-48b1-af97-f448668dad08",
   "metadata": {},
   "outputs": [
    {
     "data": {
      "text/plain": [
       "{'John': ('HR', 3100.0),\n",
       " 'Emily': ('Finance', 3600.0),\n",
       " 'Michael': ('IT', 4100.0),\n",
       " 'Sophia': ('Marketing', 2900.0)}"
      ]
     },
     "execution_count": 521,
     "metadata": {},
     "output_type": "execute_result"
    }
   ],
   "source": [
    "t.update({q1:(w1,e1),q2:(w2,e2),q3:(w3,e3),q4:(w4,e4)})\n",
    "t"
   ]
  },
  {
   "cell_type": "markdown",
   "id": "8fa2fc8f-233d-4291-8a34-8d361899a73a",
   "metadata": {},
   "source": [
    "# Add qution 5"
   ]
  },
  {
   "cell_type": "code",
   "execution_count": 524,
   "id": "0b684794-25cd-4af8-9448-d17e656a652f",
   "metadata": {},
   "outputs": [
    {
     "data": {
      "text/plain": [
       "('John', 'Emily', 'Michael', 'Sophia')"
      ]
     },
     "execution_count": 524,
     "metadata": {},
     "output_type": "execute_result"
    }
   ],
   "source": [
    "z1,z2,z3,z4=employees[0][0],employees[1][0],employees[2][0],employees[3][0]\n",
    "z1,z2,z3,z4"
   ]
  },
  {
   "cell_type": "code",
   "execution_count": 526,
   "id": "5e9b561b-ca7b-4264-ae9a-c5bd03b48961",
   "metadata": {},
   "outputs": [
    {
     "data": {
      "text/plain": [
       "{'John': 9300, 'Emily': 10800, 'Michael': 12300, 'Sophia': 8700}"
      ]
     },
     "execution_count": 526,
     "metadata": {},
     "output_type": "execute_result"
    }
   ],
   "source": [
    "salaries[z1],salaries[z2],salaries[z3],salaries[z4]=sum(salaries[z1]),sum(salaries[z2]),sum(salaries[z3]),sum(salaries[z4])\n",
    "salaries"
   ]
  },
  {
   "cell_type": "code",
   "execution_count": null,
   "id": "02a23e19-fa3e-4402-bfbd-aff2b56057de",
   "metadata": {},
   "outputs": [],
   "source": []
  }
 ],
 "metadata": {
  "colab": {
   "provenance": []
  },
  "kernelspec": {
   "display_name": "Python 3 (ipykernel)",
   "language": "python",
   "name": "python3"
  },
  "language_info": {
   "codemirror_mode": {
    "name": "ipython",
    "version": 3
   },
   "file_extension": ".py",
   "mimetype": "text/x-python",
   "name": "python",
   "nbconvert_exporter": "python",
   "pygments_lexer": "ipython3",
   "version": "3.12.4"
  }
 },
 "nbformat": 4,
 "nbformat_minor": 5
}
