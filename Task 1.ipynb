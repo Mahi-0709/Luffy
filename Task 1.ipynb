{
 "cells": [
  {
   "cell_type": "code",
   "execution_count": null,
   "id": "c77a2dea-73e7-4a47-97b8-0730616fa225",
   "metadata": {},
   "outputs": [],
   "source": [
    "#Disclaimer:Dont use CHATGPT\n",
    "#read questions slowly and carefully"
   ]
  },
  {
   "cell_type": "markdown",
   "id": "3d3ebb83-a212-429d-a9dd-90c012b2b5ba",
   "metadata": {},
   "source": [
    "# 1"
   ]
  },
  {
   "cell_type": "code",
   "execution_count": 15,
   "id": "1f2006e1-06f6-49dc-8b62-508edccdeaf7",
   "metadata": {},
   "outputs": [
    {
     "name": "stdout",
     "output_type": "stream",
     "text": [
      "86.0\n"
     ]
    }
   ],
   "source": [
    "#convert celcius to farenheit\n",
    "#formula celcius*(9/5)+32\n",
    "c=30\n",
    "f=c*(9/5)+32\n",
    "print(f)"
   ]
  },
  {
   "cell_type": "markdown",
   "id": "6a532f91-a16f-4211-bdc2-24a5b5580741",
   "metadata": {},
   "source": [
    "# 2"
   ]
  },
  {
   "cell_type": "code",
   "execution_count": 3,
   "id": "8b9e70b0-3633-4df2-bcc7-d8bd6b6dbf3e",
   "metadata": {},
   "outputs": [
    {
     "name": "stdout",
     "output_type": "stream",
     "text": [
      "8727963568087712425891397479476727340041449000000000000000000000000000000000000000000000\n"
     ]
    }
   ],
   "source": [
    "#create 2 variables num1 and num2  and assign numeric values in form of string that is, in this format'90','45'\n",
    "#perform typecasting and do exponentiation operations(*) for 2 numbers\n",
    "num1='90'\n",
    "num2='45'\n",
    "num3=int(num1)\n",
    "num4=int(num2)\n",
    "exp=num3**num4\n",
    "print(exp)"
   ]
  },
  {
   "cell_type": "markdown",
   "id": "884964f9-ba4b-4bbc-a66c-f609a397aee0",
   "metadata": {},
   "source": [
    "# 3"
   ]
  },
  {
   "cell_type": "code",
   "execution_count": 9,
   "id": "37ae84c2-9cfe-4f32-bf7c-c9243da82227",
   "metadata": {},
   "outputs": [
    {
     "name": "stdout",
     "output_type": "stream",
     "text": [
      "7500.0\n"
     ]
    }
   ],
   "source": [
    "#Write a Python function that takes the principal amount-p, rate of interest-r, and time period-n, and returns the simple interest.\n",
    "#S.I=pnr/100\n",
    "p=10000\n",
    "r=25\n",
    "n=3\n",
    "si=(p*n*r)/100\n",
    "print(si)"
   ]
  },
  {
   "cell_type": "markdown",
   "id": "f30fedca-eeb2-4761-845d-a33015f714ea",
   "metadata": {},
   "source": [
    "# 4"
   ]
  },
  {
   "cell_type": "code",
   "execution_count": 255,
   "id": "6d2fa8f1-ab31-43a4-8f52-d07c359f765c",
   "metadata": {},
   "outputs": [],
   "source": [
    "#Write a Python function that takes the lengths of the two sides of a right triangle a,b and returns the length of the hypotenuse c\n",
    "#length of hypotenuse=sqrt of sum of square of 2 sides [sqrt(a² + b²)]"
   ]
  },
  {
   "cell_type": "code",
   "execution_count": 257,
   "id": "90f722e3-476e-4c69-b946-0bf97dbacb46",
   "metadata": {},
   "outputs": [
    {
     "name": "stdout",
     "output_type": "stream",
     "text": [
      "225\n"
     ]
    }
   ],
   "source": [
    "a=15\n",
    "b=30\n",
    "d=a**2\n",
    "print(d)"
   ]
  },
  {
   "cell_type": "code",
   "execution_count": 259,
   "id": "faca25de-fd69-4756-ab5e-0ce44cab693b",
   "metadata": {},
   "outputs": [
    {
     "name": "stdout",
     "output_type": "stream",
     "text": [
      "900\n"
     ]
    }
   ],
   "source": [
    "e=b**2\n",
    "print(e)"
   ]
  },
  {
   "cell_type": "code",
   "execution_count": 261,
   "id": "aafec445-e1df-4f17-b5a8-5375998360fd",
   "metadata": {},
   "outputs": [
    {
     "name": "stdout",
     "output_type": "stream",
     "text": [
      "1125\n"
     ]
    }
   ],
   "source": [
    "f=d+e\n",
    "print(f)"
   ]
  },
  {
   "cell_type": "code",
   "execution_count": 263,
   "id": "2a59c505-77c1-4391-9db1-bff6604ddedf",
   "metadata": {},
   "outputs": [
    {
     "name": "stdout",
     "output_type": "stream",
     "text": [
      "33.54101966249684\n"
     ]
    }
   ],
   "source": [
    "c=f**0.5\n",
    "print(c)"
   ]
  },
  {
   "cell_type": "markdown",
   "id": "4d029233-c865-4f5e-b7f1-2f38b059c9a3",
   "metadata": {},
   "source": [
    "# 5"
   ]
  },
  {
   "cell_type": "code",
   "execution_count": 265,
   "id": "070ab0c3-3f3f-4f71-b6d1-782b76c41a39",
   "metadata": {},
   "outputs": [
    {
     "name": "stdout",
     "output_type": "stream",
     "text": [
      "ILA\n"
     ]
    }
   ],
   "source": [
    "# assign variable named vadapalani #extract the result ILAvd,4\n",
    "name='vadapalani'\n",
    "name1=name[-1:-8:-3].upper()\n",
    "print(name1)"
   ]
  },
  {
   "cell_type": "code",
   "execution_count": 267,
   "id": "ba83b88a-7d81-42fd-9f49-5511ce4a7d82",
   "metadata": {},
   "outputs": [
    {
     "name": "stdout",
     "output_type": "stream",
     "text": [
      "vd\n"
     ]
    }
   ],
   "source": [
    "name2=name[0:3:2]\n",
    "print(name2)"
   ]
  },
  {
   "cell_type": "code",
   "execution_count": 269,
   "id": "3816021a-9605-4ead-9471-7d4502b3ba9f",
   "metadata": {},
   "outputs": [
    {
     "name": "stdout",
     "output_type": "stream",
     "text": [
      "4\n"
     ]
    }
   ],
   "source": [
    "name3=name.count('a')\n",
    "print(name3)"
   ]
  },
  {
   "cell_type": "code",
   "execution_count": 271,
   "id": "d272268b-8134-44a0-9795-3cad3e2b3256",
   "metadata": {},
   "outputs": [
    {
     "name": "stdout",
     "output_type": "stream",
     "text": [
      "4\n"
     ]
    }
   ],
   "source": [
    "name4=str(name3)\n",
    "print(name4)"
   ]
  },
  {
   "cell_type": "code",
   "execution_count": 273,
   "id": "5928fbe7-0a83-4892-9571-dbd6b71a3fa7",
   "metadata": {},
   "outputs": [
    {
     "name": "stdout",
     "output_type": "stream",
     "text": [
      "ILAvd\n"
     ]
    }
   ],
   "source": [
    "name5=name1+name2\n",
    "print(name5)"
   ]
  },
  {
   "cell_type": "code",
   "execution_count": 275,
   "id": "8c68482e-b59e-4c73-aebf-4213f3298eb8",
   "metadata": {},
   "outputs": [
    {
     "name": "stdout",
     "output_type": "stream",
     "text": [
      "ILAvd:4\n"
     ]
    }
   ],
   "source": [
    "name6=name5+\":\"+name4\n",
    "print(name6)"
   ]
  },
  {
   "cell_type": "code",
   "execution_count": 277,
   "id": "f1c43345-e47b-4f12-bdcd-39b99a2fb143",
   "metadata": {},
   "outputs": [
    {
     "name": "stdout",
     "output_type": "stream",
     "text": [
      "['ILAvd', '4']\n"
     ]
    }
   ],
   "source": [
    "name7=name6.split(\":\")\n",
    "print(name7)"
   ]
  },
  {
   "cell_type": "code",
   "execution_count": 297,
   "id": "85a06f5f-b3c7-4087-8eeb-51c15ce6b34f",
   "metadata": {},
   "outputs": [
    {
     "name": "stdout",
     "output_type": "stream",
     "text": [
      "ILAvd,4\n"
     ]
    }
   ],
   "source": [
    "name8=\",\".join(name7)\n",
    "print(name8)"
   ]
  }
 ],
 "metadata": {
  "kernelspec": {
   "display_name": "Python 3 (ipykernel)",
   "language": "python",
   "name": "python3"
  },
  "language_info": {
   "codemirror_mode": {
    "name": "ipython",
    "version": 3
   },
   "file_extension": ".py",
   "mimetype": "text/x-python",
   "name": "python",
   "nbconvert_exporter": "python",
   "pygments_lexer": "ipython3",
   "version": "3.12.4"
  }
 },
 "nbformat": 4,
 "nbformat_minor": 5
}



2
